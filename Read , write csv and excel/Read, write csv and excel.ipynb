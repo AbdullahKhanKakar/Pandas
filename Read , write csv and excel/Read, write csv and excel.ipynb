{
 "cells": [
  {
   "cell_type": "markdown",
   "id": "a5fe493e",
   "metadata": {},
   "source": [
    "<h1 style=\"background-color:orange;padding:10px 0 10px 10px;display:inline;\">Reading,Writing CSV files</h1>"
   ]
  },
  {
   "cell_type": "code",
   "execution_count": 1,
   "id": "05830222",
   "metadata": {},
   "outputs": [],
   "source": [
    "import pandas as pd"
   ]
  },
  {
   "cell_type": "markdown",
   "id": "4f6516eb",
   "metadata": {},
   "source": [
    "## If header is extra:\n",
    "### header=1 or skiprows=1\n",
    "## If header is missing:\n",
    "### header=None , names=[\"Class\",\"Roll#\",\"Marks\"]\n",
    "## If dataset is larger , then you want to load few rows\n",
    "### nrows=</no of rows/>\n",
    "## Replacing values with null values\n",
    "### na_values=[\"not available\"] or na_values={\"revenue\":[-1]}"
   ]
  },
  {
   "cell_type": "code",
   "execution_count": 36,
   "id": "c7ed3fc5",
   "metadata": {},
   "outputs": [
    {
     "data": {
      "text/html": [
       "<div>\n",
       "<style scoped>\n",
       "    .dataframe tbody tr th:only-of-type {\n",
       "        vertical-align: middle;\n",
       "    }\n",
       "\n",
       "    .dataframe tbody tr th {\n",
       "        vertical-align: top;\n",
       "    }\n",
       "\n",
       "    .dataframe thead th {\n",
       "        text-align: right;\n",
       "    }\n",
       "</style>\n",
       "<table border=\"1\" class=\"dataframe\">\n",
       "  <thead>\n",
       "    <tr style=\"text-align: right;\">\n",
       "      <th></th>\n",
       "      <th>Brand of shoes</th>\n",
       "      <th>number of shoes</th>\n",
       "      <th>price of shoes</th>\n",
       "    </tr>\n",
       "  </thead>\n",
       "  <tbody>\n",
       "    <tr>\n",
       "      <th>0</th>\n",
       "      <td>Zoo</td>\n",
       "      <td>12</td>\n",
       "      <td>300</td>\n",
       "    </tr>\n",
       "    <tr>\n",
       "      <th>1</th>\n",
       "      <td>Unalti</td>\n",
       "      <td>10</td>\n",
       "      <td>400</td>\n",
       "    </tr>\n",
       "    <tr>\n",
       "      <th>2</th>\n",
       "      <td>Nikee</td>\n",
       "      <td>11</td>\n",
       "      <td>350</td>\n",
       "    </tr>\n",
       "    <tr>\n",
       "      <th>3</th>\n",
       "      <td>Sparke</td>\n",
       "      <td>13</td>\n",
       "      <td>550</td>\n",
       "    </tr>\n",
       "    <tr>\n",
       "      <th>4</th>\n",
       "      <td>Hebton</td>\n",
       "      <td>10</td>\n",
       "      <td>540</td>\n",
       "    </tr>\n",
       "    <tr>\n",
       "      <th>5</th>\n",
       "      <td>Helloton</td>\n",
       "      <td>12</td>\n",
       "      <td>400</td>\n",
       "    </tr>\n",
       "    <tr>\n",
       "      <th>6</th>\n",
       "      <td>Mecr</td>\n",
       "      <td>11</td>\n",
       "      <td>800</td>\n",
       "    </tr>\n",
       "  </tbody>\n",
       "</table>\n",
       "</div>"
      ],
      "text/plain": [
       "  Brand of shoes  number of shoes  price of shoes\n",
       "0            Zoo               12             300\n",
       "1         Unalti               10             400\n",
       "2          Nikee               11             350\n",
       "3         Sparke               13             550\n",
       "4         Hebton               10             540\n",
       "5       Helloton               12             400\n",
       "6           Mecr               11             800"
      ]
     },
     "execution_count": 36,
     "metadata": {},
     "output_type": "execute_result"
    }
   ],
   "source": [
    "df = pd.read_csv(\"Csv_file.csv\",header=None,names=[\"Brand of shoes\",\"number of shoes\",\"price of shoes\"])\n",
    "df"
   ]
  },
  {
   "cell_type": "markdown",
   "id": "7538e7a6",
   "metadata": {},
   "source": [
    "## For writing csv:\n",
    "### df.to_csv(\"<name of csv file/>\" , header=False(for not importing header) , columns=[\"brand\",\"price\"] , index=False)"
   ]
  },
  {
   "cell_type": "code",
   "execution_count": 33,
   "id": "5a489db8",
   "metadata": {},
   "outputs": [],
   "source": [
    "df.to_csv(\"new_csv_file\",index=False,columns=['Brand of shoes'])"
   ]
  },
  {
   "cell_type": "markdown",
   "id": "d961e345",
   "metadata": {},
   "source": [
    "<h1 style=\"background-color:orange;padding:10px 0 10px 10px;display:inline;\">Reading,Writing EXCEL files</h1>"
   ]
  },
  {
   "cell_type": "code",
   "execution_count": 53,
   "id": "b318949a",
   "metadata": {},
   "outputs": [
    {
     "data": {
      "text/html": [
       "<div>\n",
       "<style scoped>\n",
       "    .dataframe tbody tr th:only-of-type {\n",
       "        vertical-align: middle;\n",
       "    }\n",
       "\n",
       "    .dataframe tbody tr th {\n",
       "        vertical-align: top;\n",
       "    }\n",
       "\n",
       "    .dataframe thead th {\n",
       "        text-align: right;\n",
       "    }\n",
       "</style>\n",
       "<table border=\"1\" class=\"dataframe\">\n",
       "  <thead>\n",
       "    <tr style=\"text-align: right;\">\n",
       "      <th></th>\n",
       "      <th>Name</th>\n",
       "      <th>class</th>\n",
       "      <th>gender</th>\n",
       "      <th>age</th>\n",
       "    </tr>\n",
       "  </thead>\n",
       "  <tbody>\n",
       "    <tr>\n",
       "      <th>0</th>\n",
       "      <td>Ali</td>\n",
       "      <td>12</td>\n",
       "      <td>Male</td>\n",
       "      <td>22</td>\n",
       "    </tr>\n",
       "    <tr>\n",
       "      <th>1</th>\n",
       "      <td>Sana</td>\n",
       "      <td>13</td>\n",
       "      <td>Female</td>\n",
       "      <td>19</td>\n",
       "    </tr>\n",
       "    <tr>\n",
       "      <th>2</th>\n",
       "      <td>Bilal Khan</td>\n",
       "      <td>12</td>\n",
       "      <td>Male</td>\n",
       "      <td>20</td>\n",
       "    </tr>\n",
       "    <tr>\n",
       "      <th>3</th>\n",
       "      <td>Abdullah</td>\n",
       "      <td>14</td>\n",
       "      <td>Male</td>\n",
       "      <td>19</td>\n",
       "    </tr>\n",
       "    <tr>\n",
       "      <th>4</th>\n",
       "      <td>Fatima</td>\n",
       "      <td>14</td>\n",
       "      <td>Female</td>\n",
       "      <td>20</td>\n",
       "    </tr>\n",
       "    <tr>\n",
       "      <th>5</th>\n",
       "      <td>Hassan Ali</td>\n",
       "      <td>15</td>\n",
       "      <td>Male</td>\n",
       "      <td>23</td>\n",
       "    </tr>\n",
       "    <tr>\n",
       "      <th>6</th>\n",
       "      <td>Wania</td>\n",
       "      <td>12</td>\n",
       "      <td>Female</td>\n",
       "      <td>17</td>\n",
       "    </tr>\n",
       "    <tr>\n",
       "      <th>7</th>\n",
       "      <td>Maryam</td>\n",
       "      <td>14</td>\n",
       "      <td>Female</td>\n",
       "      <td>20</td>\n",
       "    </tr>\n",
       "    <tr>\n",
       "      <th>8</th>\n",
       "      <td>Faizan</td>\n",
       "      <td>16</td>\n",
       "      <td>Male</td>\n",
       "      <td>24</td>\n",
       "    </tr>\n",
       "  </tbody>\n",
       "</table>\n",
       "</div>"
      ],
      "text/plain": [
       "         Name  class  gender  age\n",
       "0         Ali     12    Male   22\n",
       "1        Sana     13  Female   19\n",
       "2  Bilal Khan     12    Male   20\n",
       "3    Abdullah     14    Male   19\n",
       "4      Fatima     14  Female   20\n",
       "5  Hassan Ali     15    Male   23\n",
       "6       Wania     12  Female   17\n",
       "7      Maryam     14  Female   20\n",
       "8      Faizan     16    Male   24"
      ]
     },
     "execution_count": 53,
     "metadata": {},
     "output_type": "execute_result"
    }
   ],
   "source": [
    "df = pd.read_excel(\"Excel_file.xlsx\",\"Sheet2\")\n",
    "df"
   ]
  },
  {
   "cell_type": "code",
   "execution_count": 43,
   "id": "cfd79dce",
   "metadata": {},
   "outputs": [],
   "source": [
    "df.to_excel(\"new_excel_file.xlsx\",sheet_name=\"Students Information\",index=False,startrow=2,startcol=2)"
   ]
  },
  {
   "cell_type": "markdown",
   "id": "91806887",
   "metadata": {},
   "source": [
    "## Writing multiple dataframes to multiple sheets "
   ]
  },
  {
   "cell_type": "code",
   "execution_count": 49,
   "id": "093413ea",
   "metadata": {},
   "outputs": [],
   "source": [
    "df_stocks = pd.DataFrame({\n",
    "    \"Brand\":[\"Zelac\",\"Muitar\",\"Nickee\",\"Heaven\",\"Flikker\"],\n",
    "    \"Rating\":[4,4.5,5,5,3.9],\n",
    "    \"Customers\":[\"Millions\",\"Billions\",\"Billions\",\"Billions\",\"Lac\"]\n",
    "})\n",
    "df_studentRecord = pd.DataFrame({\n",
    "    \"Name\":[\"Ali\",\"Abdullah\",\"Sana\"],\n",
    "    \"Gender\":[\"Male\",\"Male\",\"Female\"],\n",
    "    \"Education\":[\"Matric\",\"Intermediation\",\"Graduation\"]\n",
    "})"
   ]
  },
  {
   "cell_type": "code",
   "execution_count": 51,
   "id": "ed7bf3f6",
   "metadata": {},
   "outputs": [],
   "source": [
    "with pd.ExcelWriter(\"Stocks and Student Record.xlsx\") as write:\n",
    "    df_stocks.to_excel(write,sheet_name=\"stocks\",index=False),\n",
    "    df_studentRecord.to_excel(write,sheet_name=\"students record\",index=False)\n",
    "    "
   ]
  },
  {
   "cell_type": "code",
   "execution_count": null,
   "id": "bcd7a673",
   "metadata": {},
   "outputs": [],
   "source": []
  }
 ],
 "metadata": {
  "kernelspec": {
   "display_name": "Python 3 (ipykernel)",
   "language": "python",
   "name": "python3"
  },
  "language_info": {
   "codemirror_mode": {
    "name": "ipython",
    "version": 3
   },
   "file_extension": ".py",
   "mimetype": "text/x-python",
   "name": "python",
   "nbconvert_exporter": "python",
   "pygments_lexer": "ipython3",
   "version": "3.11.3"
  }
 },
 "nbformat": 4,
 "nbformat_minor": 5
}
